{
 "cells": [
  {
   "cell_type": "code",
   "execution_count": 1,
   "metadata": {},
   "outputs": [],
   "source": [
    "import socket\n",
    "import os\n",
    "\n",
    "os.system('rm -rf __pycache__ ldap_pb2.py')\n",
    "os.system('protoc --python_out=. *.proto')\n",
    "\n",
    "import ldap_pb2"
   ]
  },
  {
   "cell_type": "code",
   "execution_count": 2,
   "metadata": {},
   "outputs": [],
   "source": [
    "req = ldap_pb2.ldap()\n",
    "reply = ldap_pb2.ldap()"
   ]
  },
  {
   "cell_type": "code",
   "execution_count": 3,
   "metadata": {},
   "outputs": [
    {
     "name": "stdout",
     "output_type": "stream",
     "text": [
      "Socket successfully created\n"
     ]
    }
   ],
   "source": [
    "s = socket.socket()          \n",
    "print('Socket successfully created')"
   ]
  },
  {
   "cell_type": "code",
   "execution_count": 4,
   "metadata": {},
   "outputs": [],
   "source": [
    "port = 15790\n",
    "childport = 17905"
   ]
  },
  {
   "cell_type": "code",
   "execution_count": 5,
   "metadata": {},
   "outputs": [
    {
     "name": "stdout",
     "output_type": "stream",
     "text": [
      "socket binded to 15790\n"
     ]
    }
   ],
   "source": [
    "s.setsockopt(socket.SOL_SOCKET, socket.SO_REUSEADDR, 1)\n",
    "s.bind(('', port))         \n",
    "print(\"socket binded to %s\" %(port))"
   ]
  },
  {
   "cell_type": "code",
   "execution_count": 6,
   "metadata": {},
   "outputs": [
    {
     "name": "stdout",
     "output_type": "stream",
     "text": [
      "socket is listening\n"
     ]
    }
   ],
   "source": [
    "s.listen(5)      \n",
    "print(\"socket is listening\")"
   ]
  },
  {
   "cell_type": "code",
   "execution_count": null,
   "metadata": {},
   "outputs": [],
   "source": [
    "while True: \n",
    "    c, addr = s.accept()      \n",
    "    print ('Got connection from', addr )\n",
    "    \n",
    "  \n",
    "    #recieve a request\n",
    "    reqstring = c.recv(1024)\n",
    "    print(reqstring)\n",
    "    req.ParseFromString(reqstring)\n",
    "    \n",
    "    \n",
    "    #print req id\n",
    "    print('Request id',req.id)\n",
    "    \n",
    "    reply.Clear()\n",
    "    reply.id = req.id\n",
    "    reply.type = req.type\n",
    "    \n",
    "    #check if the id is in this server otherwise reply with the address of the correct root server, also send the number of bytes with the message as we can assume that request message is small but the response message may not be small.\n",
    "#     if req.id > 10000 :\n",
    "#             reply.response = str(childport)\n",
    "    \n",
    "    c.send(str.encode(str(reply.ByteSize())) + b'$' + reply.SerializeToString())\n",
    "    \n",
    "    c.close()"
   ]
  },
  {
   "cell_type": "code",
   "execution_count": 11,
   "metadata": {},
   "outputs": [],
   "source": [
    "s.close()"
   ]
  },
  {
   "cell_type": "code",
   "execution_count": 12,
   "metadata": {},
   "outputs": [
    {
     "data": {
      "text/plain": [
       "['DESCRIPTOR',\n",
       " '_LDAP',\n",
       " '_LDAP_TYPE',\n",
       " '__builtins__',\n",
       " '__cached__',\n",
       " '__doc__',\n",
       " '__file__',\n",
       " '__loader__',\n",
       " '__name__',\n",
       " '__package__',\n",
       " '__spec__',\n",
       " '_b',\n",
       " '_descriptor',\n",
       " '_message',\n",
       " '_reflection',\n",
       " '_sym_db',\n",
       " '_symbol_database',\n",
       " 'ldap',\n",
       " 'sys']"
      ]
     },
     "execution_count": 12,
     "metadata": {},
     "output_type": "execute_result"
    }
   ],
   "source": [
    "dir(ldap_pb2)"
   ]
  },
  {
   "cell_type": "code",
   "execution_count": null,
   "metadata": {},
   "outputs": [],
   "source": []
  }
 ],
 "metadata": {
  "kernelspec": {
   "display_name": "Python 3",
   "language": "python",
   "name": "python3"
  },
  "language_info": {
   "codemirror_mode": {
    "name": "ipython",
    "version": 3
   },
   "file_extension": ".py",
   "mimetype": "text/x-python",
   "name": "python",
   "nbconvert_exporter": "python",
   "pygments_lexer": "ipython3",
   "version": "3.7.2"
  }
 },
 "nbformat": 4,
 "nbformat_minor": 2
}

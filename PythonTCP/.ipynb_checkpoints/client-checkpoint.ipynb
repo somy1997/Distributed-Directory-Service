{
 "cells": [
  {
   "cell_type": "code",
   "execution_count": 1,
   "metadata": {},
   "outputs": [],
   "source": [
    "import socket\n",
    "import os\n",
    "\n",
    "os.system('rm -rf __pycache__ ldap_pb2.py')\n",
    "os.system('protoc --python_out=. *.proto')\n",
    "\n",
    "import ldap_pb2"
   ]
  },
  {
   "cell_type": "code",
   "execution_count": 2,
   "metadata": {},
   "outputs": [],
   "source": [
    "# ip = socket.gethostbyname('www.google.com')\n",
    "# print(ip)"
   ]
  },
  {
   "cell_type": "code",
   "execution_count": 3,
   "metadata": {},
   "outputs": [],
   "source": [
    "newreq = ldap_pb2.ldap()\n",
    "newreq.id = 1234\n",
    "newreq.type = ldap_pb2.ldap.BIND\n",
    "\n",
    "reply = ldap_pb2.ldap()"
   ]
  },
  {
   "cell_type": "code",
   "execution_count": 4,
   "metadata": {},
   "outputs": [],
   "source": [
    "ip = '10.117.8.173'\n",
    "port = 12345"
   ]
  },
  {
   "cell_type": "code",
   "execution_count": 5,
   "metadata": {},
   "outputs": [
    {
     "name": "stdout",
     "output_type": "stream",
     "text": [
      "Server connected\n",
      "Server connected\n",
      "Server connected\n",
      "Bind successful at port 15790 !\n"
     ]
    }
   ],
   "source": [
    "while True :\n",
    "    s = socket.socket(socket.AF_INET, socket.SOCK_STREAM)\n",
    "    s.connect((ip, port)) \n",
    "    print('Server connected')\n",
    "    s.send(newreq.SerializeToString())\n",
    "    replystr = s.recv(1024)\n",
    "    boundary = replystr.find(b'$')\n",
    "    nbytes = int(replystr[:boundary])\n",
    "    replymessage = replystr[boundary+1:]\n",
    "    while len(replymessage) < nbytes :\n",
    "        replymessage += s.recv(1024)\n",
    "    reply.ParseFromString(replymessage)\n",
    "    if not reply.HasField('response') or reply.response == '' :\n",
    "        break\n",
    "    s.close()\n",
    "    #add response.port and response.ip for different machines\n",
    "    port = int(reply.response)\n",
    "\n",
    "print('Bind successful at port',port,'!')"
   ]
  },
  {
   "cell_type": "code",
   "execution_count": 7,
   "metadata": {},
   "outputs": [
    {
     "name": "stdout",
     "output_type": "stream",
     "text": [
      "3\n",
      "345\n",
      "4\n"
     ]
    }
   ],
   "source": [
    "s = str.encode(str(345)+'$')\n",
    "print(s.find(b'$'))\n",
    "n = int(s[:s.find(b'$')])\n",
    "print(n)\n",
    "print(len(s))"
   ]
  },
  {
   "cell_type": "code",
   "execution_count": 5,
   "metadata": {},
   "outputs": [
    {
     "name": "stdout",
     "output_type": "stream",
     "text": [
      "4\n",
      "4\n"
     ]
    }
   ],
   "source": [
    "print(len(newreq.SerializeToString()))\n",
    "print(newreq.ByteSize())"
   ]
  },
  {
   "cell_type": "code",
   "execution_count": 7,
   "metadata": {},
   "outputs": [
    {
     "data": {
      "text/plain": [
       "type: BIND\n",
       "id: 12"
      ]
     },
     "execution_count": 7,
     "metadata": {},
     "output_type": "execute_result"
    }
   ],
   "source": [
    "reply"
   ]
  },
  {
   "cell_type": "code",
   "execution_count": null,
   "metadata": {},
   "outputs": [],
   "source": []
  }
 ],
 "metadata": {
  "kernelspec": {
   "display_name": "Python 3",
   "language": "python",
   "name": "python3"
  },
  "language_info": {
   "codemirror_mode": {
    "name": "ipython",
    "version": 3
   },
   "file_extension": ".py",
   "mimetype": "text/x-python",
   "name": "python",
   "nbconvert_exporter": "python",
   "pygments_lexer": "ipython3",
   "version": "3.7.2"
  }
 },
 "nbformat": 4,
 "nbformat_minor": 2
}

{
 "cells": [
  {
   "cell_type": "code",
   "execution_count": 11,
   "metadata": {},
   "outputs": [],
   "source": [
    "import rpyc\n",
    "from rpyc.utils.server import ThreadedServer\n",
    "from threading import Thread\n",
    "import time\n",
    "from rpyc import async_\n",
    "\n",
    "port=11111\n",
    "broport = 22222\n",
    "ip = 'localhost'\n",
    "latest_write = 67\n",
    "writes = [i for i in range(4000)]\n",
    "broip = ip\n",
    "peerconn = 0\n",
    "master = False"
   ]
  },
  {
   "cell_type": "code",
   "execution_count": 12,
   "metadata": {},
   "outputs": [],
   "source": [
    "class MyService(rpyc.Service):\n",
    "    #def __init__(self) :\n",
    "        #self.master = False\n",
    "        # Here, self.master should be static !!!\n",
    "        \n",
    "    exposed_myid = port\n",
    "    \n",
    "    def on_connect(self, conn):\n",
    "        # code that runs when a connection is created\n",
    "        # (to init the service, if needed)\n",
    "        \n",
    "        # This thread should be started only when conn is established with peer\n",
    "        global master\n",
    "        global peerconn\n",
    "        if conn.root.myid == broport :\n",
    "            print('OK Hi 1! Connection established with peer')\n",
    "            peerconn = conn\n",
    "            if master == False and conn.root.ismaster() == True :\n",
    "                master = False\n",
    "                self.alc = async_(conn.root.alive)\n",
    "                self.chk = Thread(target = self.chkAlive)\n",
    "                self.chk.start()\n",
    "        pass\n",
    "\n",
    "    def on_disconnect(self, conn):\n",
    "        # code that runs after the connection has already closed\n",
    "        # (to finalize the service, if needed)\n",
    "        global master\n",
    "        global peerconn\n",
    "        print('OK Bye 1!')\n",
    "        print(conn)\n",
    "        print(peerconn)\n",
    "        if conn == peerconn :\n",
    "            if master == False :\n",
    "                print('Master Died')\n",
    "                print('Becoming Master')\n",
    "                master = True\n",
    "            else :\n",
    "                print('Slave Died')\n",
    "        pass\n",
    "    \n",
    "    def chkAlive(self):\n",
    "        global peerconn\n",
    "        global master\n",
    "        while True:\n",
    "            try:\n",
    "                h = self.alc()\n",
    "                time.sleep(2)\n",
    "                print('Checking Master for alive')\n",
    "            except Exception as e:\n",
    "                print(e)\n",
    "                print(peerconn.closed)\n",
    "                if master == False :\n",
    "                    print('Master Died')\n",
    "                    print('Becoming Master')\n",
    "                    master = True\n",
    "                return\n",
    "                pass\n",
    "            \n",
    "#             if not h.ready:\n",
    "#                 print ('Master is dead')\n",
    "#                 return\n",
    "#             else:\n",
    "#                 print ('Master is alive')\n",
    "                \n",
    "    def exposed_get_answer(self): # this is an exposed method\n",
    "        return 42\n",
    "\n",
    "    exposed_the_real_answer_though = 43     # an exposed attribute\n",
    "\n",
    "    def get_question(self):  # while this method is not exposed\n",
    "        return \"what is the airspeed velocity of an unladen swallow?\"\n",
    "    \n",
    "    def exposed_bind(self,objectid) :\n",
    "        if objectid < 100 :\n",
    "            return 0\n",
    "        else :\n",
    "            return childport\n",
    "    \n",
    "    def exposed_server_port(self) :\n",
    "        return port\n",
    "    \n",
    "    def exposed_ismaster(self) :\n",
    "        global master\n",
    "        return master\n",
    "    \n",
    "    def exposed_alive(self):\n",
    "        return True\n",
    "    \n",
    "    def exposed_server_port(self) :\n",
    "        return port\n",
    "    \n",
    "    # bro code\n",
    "    def exposed_updateme(self) :\n",
    "        return latest_write\n",
    "    \n",
    "    def exposed_givemewrites(self,missed) :\n",
    "        return writes[len(writes)-missed:]"
   ]
  },
  {
   "cell_type": "code",
   "execution_count": 13,
   "metadata": {},
   "outputs": [],
   "source": [
    "def updatewrites() :\n",
    "    global latest_write\n",
    "    writebro = cbro.root.updateme()\n",
    "    if writebro == latest_write :\n",
    "        #<connect to parent, children> # If parent alive means recovering from failure\n",
    "        return\n",
    "    writes += cbro.root.givemewrites(writebro - latest_write)\n",
    "    latest_write = writebro\n",
    "    f = open('state.txt','w')\n",
    "    f.write(str(latest_write))\n",
    "    f.close()"
   ]
  },
  {
   "cell_type": "code",
   "execution_count": 14,
   "metadata": {},
   "outputs": [],
   "source": [
    "def wakeup() :\n",
    "    # getstate\n",
    "    global c,latest_write,cbro,writes, master\n",
    "    master = False\n",
    "    try :\n",
    "        f = open('state.txt','r')\n",
    "        latest_write = int(f.read())\n",
    "        f.close()\n",
    "    except :\n",
    "        latest_write = 0\n",
    "    try : # try the brother, if it is alive it implies that brother is the master\n",
    "        cbro = rpyc.connect(broip, broport, service = MyService)\n",
    "        print('Other server is active and master')\n",
    "        print('Setting this server as slave')\n",
    "        master = False\n",
    "        updatewrites()\n",
    "    except Exception as e :\n",
    "        # Waking up the first time\n",
    "        print(e)\n",
    "        print('Setting this server as Master, other replica is still sleeping')\n",
    "        master = True\n",
    "        # <connect with children>"
   ]
  },
  {
   "cell_type": "code",
   "execution_count": 15,
   "metadata": {},
   "outputs": [],
   "source": [
    "def push_writes() :\n",
    "    # If I am master then push new writes\n",
    "    # If get error mark bro as off\n",
    "    pass"
   ]
  },
  {
   "cell_type": "code",
   "execution_count": 16,
   "metadata": {},
   "outputs": [],
   "source": [
    "# on disconnect a shadow marks itself as master"
   ]
  },
  {
   "cell_type": "code",
   "execution_count": 17,
   "metadata": {},
   "outputs": [
    {
     "name": "stdout",
     "output_type": "stream",
     "text": [
      "OK Hi 1! Connection established with peer\n",
      "Other server is active and master\n",
      "Setting this server as slave\n",
      "Checking Master for alive\n",
      "Checking Master for alive\n",
      "Checking Master for alive\n",
      "Checking Master for alive\n",
      "Checking Master for alive\n",
      "[Errno 32] Broken pipe\n",
      "False\n",
      "Master Died\n",
      "Becoming Master\n"
     ]
    },
    {
     "name": "stderr",
     "output_type": "stream",
     "text": [
      "keyboard interrupt!\n"
     ]
    },
    {
     "name": "stdout",
     "output_type": "stream",
     "text": [
      "\n"
     ]
    }
   ],
   "source": [
    "# ... continuing the code snippet from above ...\n",
    "\n",
    "if __name__ == \"__main__\":\n",
    "    wakeup()\n",
    "    t = ThreadedServer(MyService, port=port)\n",
    "    t.start()"
   ]
  },
  {
   "cell_type": "code",
   "execution_count": null,
   "metadata": {},
   "outputs": [],
   "source": []
  }
 ],
 "metadata": {
  "kernelspec": {
   "display_name": "Python 3",
   "language": "python",
   "name": "python3"
  },
  "language_info": {
   "codemirror_mode": {
    "name": "ipython",
    "version": 3
   },
   "file_extension": ".py",
   "mimetype": "text/x-python",
   "name": "python",
   "nbconvert_exporter": "python",
   "pygments_lexer": "ipython3",
   "version": "3.7.2"
  }
 },
 "nbformat": 4,
 "nbformat_minor": 2
}

{
 "cells": [
  {
   "cell_type": "code",
   "execution_count": 1,
   "metadata": {},
   "outputs": [],
   "source": [
    "import rpyc\n",
    "\n",
    "rootip = '10.117.8.173'\n",
    "rootport = 54321"
   ]
  },
  {
   "cell_type": "code",
   "execution_count": null,
   "metadata": {},
   "outputs": [],
   "source": [
    "class MyService(rpyc.Service):\n",
    "    def on_connect(self, conn):\n",
    "        # code that runs when a connection is created\n",
    "        # (to init the service, if needed)\n",
    "        pass\n",
    "\n",
    "    def on_disconnect(self, conn):\n",
    "        # code that runs after the connection has already closed\n",
    "        # (to finalize the service, if needed)\n",
    "        pass\n",
    "\n",
    "    def exposed_get_answer(self): # this is an exposed method\n",
    "        return 42\n",
    "\n",
    "    exposed_the_real_answer_though = 43     # an exposed attribute\n",
    "\n",
    "    def get_question(self):  # while this method is not exposed\n",
    "        return \"what is the airspeed velocity of an unladen swallow?\"\n",
    "    \n",
    "    def exposed_bind(self,objectid) :\n",
    "        if objectid < 100 :\n",
    "            return 0\n",
    "        else :\n",
    "            return childport\n",
    "    \n",
    "    def exposed_server_port(self) :\n",
    "        return port"
   ]
  },
  {
   "cell_type": "code",
   "execution_count": 7,
   "metadata": {},
   "outputs": [
    {
     "name": "stdout",
     "output_type": "stream",
     "text": [
      "Connected to server 54321\n",
      "Referral recieved to server 54320\n",
      "Closed connection\n",
      "Connected to server 54320\n",
      "Referral recieved to server 54319\n",
      "Closed connection\n",
      "Connected to server 54319\n",
      "Bind successful to server 54319\n"
     ]
    }
   ],
   "source": [
    "port = rootport\n",
    "ip = rootip\n",
    "dnid = 1050\n",
    "while True :\n",
    "    c = rpyc.connect(ip, port, MyService)\n",
    "    print('Connected to server',c.root.server_port())\n",
    "    port = c.root.bind(dnid)\n",
    "    if port == 0 :\n",
    "        print('Bind successful to server', c.root.server_port())\n",
    "        break\n",
    "    else :\n",
    "        print('Referral recieved to server',port)\n",
    "        c.close()\n",
    "        print('Closed connection')"
   ]
  },
  {
   "cell_type": "code",
   "execution_count": 8,
   "metadata": {},
   "outputs": [],
   "source": [
    "c.close()"
   ]
  },
  {
   "cell_type": "code",
   "execution_count": 3,
   "metadata": {},
   "outputs": [
    {
     "data": {
      "text/plain": [
       "<__main__.MyService object at 0x10e0de8d0>"
      ]
     },
     "execution_count": 3,
     "metadata": {},
     "output_type": "execute_result"
    }
   ],
   "source": [
    "c.root"
   ]
  },
  {
   "cell_type": "code",
   "execution_count": 5,
   "metadata": {},
   "outputs": [
    {
     "data": {
      "text/plain": [
       "43"
      ]
     },
     "execution_count": 5,
     "metadata": {},
     "output_type": "execute_result"
    }
   ],
   "source": [
    "c.root.the_real_answer_though"
   ]
  },
  {
   "cell_type": "code",
   "execution_count": 6,
   "metadata": {},
   "outputs": [
    {
     "ename": "AttributeError",
     "evalue": "cannot access 'get_question'\n\n========= Remote Traceback (1) =========\nTraceback (most recent call last):\n  File \"/usr/local/lib/python3.7/site-packages/rpyc/core/protocol.py\", line 329, in _dispatch_request\n    res = self._HANDLERS[handler](self, *args)\n  File \"/usr/local/lib/python3.7/site-packages/rpyc/core/protocol.py\", line 596, in _handle_getattr\n    return self._access_attr(obj, name, (), \"_rpyc_getattr\", \"allow_getattr\", getattr)\n  File \"/usr/local/lib/python3.7/site-packages/rpyc/core/protocol.py\", line 538, in _access_attr\n    name = self._check_attr(obj, name, param)\n  File \"/usr/local/lib/python3.7/site-packages/rpyc/core/protocol.py\", line 523, in _check_attr\n    raise AttributeError(\"cannot access %r\" % (name,))\nAttributeError: cannot access 'get_question'\n",
     "output_type": "error",
     "traceback": [
      "\u001b[0;31m---------------------------------------------------------------------------\u001b[0m",
      "\u001b[0;31mAttributeError\u001b[0m                            Traceback (most recent call last)",
      "\u001b[0;32m<ipython-input-6-dc4afbb92640>\u001b[0m in \u001b[0;36m<module>\u001b[0;34m\u001b[0m\n\u001b[0;32m----> 1\u001b[0;31m \u001b[0mc\u001b[0m\u001b[0;34m.\u001b[0m\u001b[0mroot\u001b[0m\u001b[0;34m.\u001b[0m\u001b[0mget_question\u001b[0m\u001b[0;34m(\u001b[0m\u001b[0;34m)\u001b[0m\u001b[0;34m\u001b[0m\u001b[0;34m\u001b[0m\u001b[0m\n\u001b[0m",
      "\u001b[0;32m~/.linuxbrew/opt/python/lib/python3.7/site-packages/rpyc/core/netref.py\u001b[0m in \u001b[0;36m__getattr__\u001b[0;34m(self, name)\u001b[0m\n\u001b[1;32m    157\u001b[0m         \u001b[0;32mif\u001b[0m \u001b[0mname\u001b[0m \u001b[0;32min\u001b[0m \u001b[0m_deleted_netref_attrs\u001b[0m\u001b[0;34m:\u001b[0m\u001b[0;34m\u001b[0m\u001b[0;34m\u001b[0m\u001b[0m\n\u001b[1;32m    158\u001b[0m             \u001b[0;32mraise\u001b[0m \u001b[0mAttributeError\u001b[0m\u001b[0;34m(\u001b[0m\u001b[0;34m)\u001b[0m\u001b[0;34m\u001b[0m\u001b[0;34m\u001b[0m\u001b[0m\n\u001b[0;32m--> 159\u001b[0;31m         \u001b[0;32mreturn\u001b[0m \u001b[0msyncreq\u001b[0m\u001b[0;34m(\u001b[0m\u001b[0mself\u001b[0m\u001b[0;34m,\u001b[0m \u001b[0mconsts\u001b[0m\u001b[0;34m.\u001b[0m\u001b[0mHANDLE_GETATTR\u001b[0m\u001b[0;34m,\u001b[0m \u001b[0mname\u001b[0m\u001b[0;34m)\u001b[0m\u001b[0;34m\u001b[0m\u001b[0;34m\u001b[0m\u001b[0m\n\u001b[0m\u001b[1;32m    160\u001b[0m     \u001b[0;32mdef\u001b[0m \u001b[0m__delattr__\u001b[0m\u001b[0;34m(\u001b[0m\u001b[0mself\u001b[0m\u001b[0;34m,\u001b[0m \u001b[0mname\u001b[0m\u001b[0;34m)\u001b[0m\u001b[0;34m:\u001b[0m\u001b[0;34m\u001b[0m\u001b[0;34m\u001b[0m\u001b[0m\n\u001b[1;32m    161\u001b[0m         \u001b[0;32mif\u001b[0m \u001b[0mname\u001b[0m \u001b[0;32min\u001b[0m \u001b[0m_local_netref_attrs\u001b[0m\u001b[0;34m:\u001b[0m\u001b[0;34m\u001b[0m\u001b[0;34m\u001b[0m\u001b[0m\n",
      "\u001b[0;32m~/.linuxbrew/opt/python/lib/python3.7/site-packages/rpyc/core/netref.py\u001b[0m in \u001b[0;36msyncreq\u001b[0;34m(proxy, handler, *args)\u001b[0m\n\u001b[1;32m     73\u001b[0m     \"\"\"\n\u001b[1;32m     74\u001b[0m     \u001b[0mconn\u001b[0m \u001b[0;34m=\u001b[0m \u001b[0mobject\u001b[0m\u001b[0;34m.\u001b[0m\u001b[0m__getattribute__\u001b[0m\u001b[0;34m(\u001b[0m\u001b[0mproxy\u001b[0m\u001b[0;34m,\u001b[0m \u001b[0;34m\"____conn__\"\u001b[0m\u001b[0;34m)\u001b[0m\u001b[0;34m\u001b[0m\u001b[0;34m\u001b[0m\u001b[0m\n\u001b[0;32m---> 75\u001b[0;31m     \u001b[0;32mreturn\u001b[0m \u001b[0mconn\u001b[0m\u001b[0;34m.\u001b[0m\u001b[0msync_request\u001b[0m\u001b[0;34m(\u001b[0m\u001b[0mhandler\u001b[0m\u001b[0;34m,\u001b[0m \u001b[0mproxy\u001b[0m\u001b[0;34m,\u001b[0m \u001b[0;34m*\u001b[0m\u001b[0margs\u001b[0m\u001b[0;34m)\u001b[0m\u001b[0;34m\u001b[0m\u001b[0;34m\u001b[0m\u001b[0m\n\u001b[0m\u001b[1;32m     76\u001b[0m \u001b[0;34m\u001b[0m\u001b[0m\n\u001b[1;32m     77\u001b[0m \u001b[0;32mdef\u001b[0m \u001b[0masyncreq\u001b[0m\u001b[0;34m(\u001b[0m\u001b[0mproxy\u001b[0m\u001b[0;34m,\u001b[0m \u001b[0mhandler\u001b[0m\u001b[0;34m,\u001b[0m \u001b[0;34m*\u001b[0m\u001b[0margs\u001b[0m\u001b[0;34m)\u001b[0m\u001b[0;34m:\u001b[0m\u001b[0;34m\u001b[0m\u001b[0;34m\u001b[0m\u001b[0m\n",
      "\u001b[0;32m~/.linuxbrew/opt/python/lib/python3.7/site-packages/rpyc/core/protocol.py\u001b[0m in \u001b[0;36msync_request\u001b[0;34m(self, handler, *args)\u001b[0m\n\u001b[1;32m    469\u001b[0m         \"\"\"\n\u001b[1;32m    470\u001b[0m         \u001b[0mtimeout\u001b[0m \u001b[0;34m=\u001b[0m \u001b[0mself\u001b[0m\u001b[0;34m.\u001b[0m\u001b[0m_config\u001b[0m\u001b[0;34m[\u001b[0m\u001b[0;34m\"sync_request_timeout\"\u001b[0m\u001b[0;34m]\u001b[0m\u001b[0;34m\u001b[0m\u001b[0;34m\u001b[0m\u001b[0m\n\u001b[0;32m--> 471\u001b[0;31m         \u001b[0;32mreturn\u001b[0m \u001b[0mself\u001b[0m\u001b[0;34m.\u001b[0m\u001b[0masync_request\u001b[0m\u001b[0;34m(\u001b[0m\u001b[0mhandler\u001b[0m\u001b[0;34m,\u001b[0m \u001b[0;34m*\u001b[0m\u001b[0margs\u001b[0m\u001b[0;34m,\u001b[0m \u001b[0mtimeout\u001b[0m\u001b[0;34m=\u001b[0m\u001b[0mtimeout\u001b[0m\u001b[0;34m)\u001b[0m\u001b[0;34m.\u001b[0m\u001b[0mvalue\u001b[0m\u001b[0;34m\u001b[0m\u001b[0;34m\u001b[0m\u001b[0m\n\u001b[0m\u001b[1;32m    472\u001b[0m \u001b[0;34m\u001b[0m\u001b[0m\n\u001b[1;32m    473\u001b[0m     \u001b[0;32mdef\u001b[0m \u001b[0m_async_request\u001b[0m\u001b[0;34m(\u001b[0m\u001b[0mself\u001b[0m\u001b[0;34m,\u001b[0m \u001b[0mhandler\u001b[0m\u001b[0;34m,\u001b[0m \u001b[0margs\u001b[0m \u001b[0;34m=\u001b[0m \u001b[0;34m(\u001b[0m\u001b[0;34m)\u001b[0m\u001b[0;34m,\u001b[0m \u001b[0mcallback\u001b[0m \u001b[0;34m=\u001b[0m \u001b[0;34m(\u001b[0m\u001b[0;32mlambda\u001b[0m \u001b[0ma\u001b[0m\u001b[0;34m,\u001b[0m \u001b[0mb\u001b[0m\u001b[0;34m:\u001b[0m \u001b[0;32mNone\u001b[0m\u001b[0;34m)\u001b[0m\u001b[0;34m)\u001b[0m\u001b[0;34m:\u001b[0m\u001b[0;34m\u001b[0m\u001b[0;34m\u001b[0m\u001b[0m\n",
      "\u001b[0;32m~/.linuxbrew/opt/python/lib/python3.7/site-packages/rpyc/core/async_.py\u001b[0m in \u001b[0;36mvalue\u001b[0;34m(self)\u001b[0m\n\u001b[1;32m     95\u001b[0m         \u001b[0mself\u001b[0m\u001b[0;34m.\u001b[0m\u001b[0mwait\u001b[0m\u001b[0;34m(\u001b[0m\u001b[0;34m)\u001b[0m\u001b[0;34m\u001b[0m\u001b[0;34m\u001b[0m\u001b[0m\n\u001b[1;32m     96\u001b[0m         \u001b[0;32mif\u001b[0m \u001b[0mself\u001b[0m\u001b[0;34m.\u001b[0m\u001b[0m_is_exc\u001b[0m\u001b[0;34m:\u001b[0m\u001b[0;34m\u001b[0m\u001b[0;34m\u001b[0m\u001b[0m\n\u001b[0;32m---> 97\u001b[0;31m             \u001b[0;32mraise\u001b[0m \u001b[0mself\u001b[0m\u001b[0;34m.\u001b[0m\u001b[0m_obj\u001b[0m\u001b[0;34m\u001b[0m\u001b[0;34m\u001b[0m\u001b[0m\n\u001b[0m\u001b[1;32m     98\u001b[0m         \u001b[0;32melse\u001b[0m\u001b[0;34m:\u001b[0m\u001b[0;34m\u001b[0m\u001b[0;34m\u001b[0m\u001b[0m\n\u001b[1;32m     99\u001b[0m             \u001b[0;32mreturn\u001b[0m \u001b[0mself\u001b[0m\u001b[0;34m.\u001b[0m\u001b[0m_obj\u001b[0m\u001b[0;34m\u001b[0m\u001b[0;34m\u001b[0m\u001b[0m\n",
      "\u001b[0;31mAttributeError\u001b[0m: cannot access 'get_question'\n\n========= Remote Traceback (1) =========\nTraceback (most recent call last):\n  File \"/usr/local/lib/python3.7/site-packages/rpyc/core/protocol.py\", line 329, in _dispatch_request\n    res = self._HANDLERS[handler](self, *args)\n  File \"/usr/local/lib/python3.7/site-packages/rpyc/core/protocol.py\", line 596, in _handle_getattr\n    return self._access_attr(obj, name, (), \"_rpyc_getattr\", \"allow_getattr\", getattr)\n  File \"/usr/local/lib/python3.7/site-packages/rpyc/core/protocol.py\", line 538, in _access_attr\n    name = self._check_attr(obj, name, param)\n  File \"/usr/local/lib/python3.7/site-packages/rpyc/core/protocol.py\", line 523, in _check_attr\n    raise AttributeError(\"cannot access %r\" % (name,))\nAttributeError: cannot access 'get_question'\n"
     ]
    }
   ],
   "source": [
    "c.root.get_question()"
   ]
  },
  {
   "cell_type": "code",
   "execution_count": 10,
   "metadata": {},
   "outputs": [
    {
     "name": "stdout",
     "output_type": "stream",
     "text": [
      "['ALIASES', '__class__', '__delattr__', '__dict__', '__dir__', '__doc__', '__eq__', '__format__', '__ge__', '__getattribute__', '__gt__', '__hash__', '__init__', '__init_subclass__', '__le__', '__lt__', '__module__', '__ne__', '__new__', '__reduce__', '__reduce_ex__', '__repr__', '__setattr__', '__sizeof__', '__slots__', '__str__', '__subclasshook__', '__weakref__', '_connect', '_protocol', '_rpyc_delattr', '_rpyc_setattr', 'exposed_get_answer', 'exposed_get_service_aliases', 'exposed_get_service_name', 'exposed_the_real_answer_though', 'get_question', 'get_service_aliases', 'get_service_name', 'on_connect', 'on_disconnect']\n"
     ]
    }
   ],
   "source": [
    "print(dir(c.root))"
   ]
  },
  {
   "cell_type": "code",
   "execution_count": 11,
   "metadata": {},
   "outputs": [
    {
     "data": {
      "text/plain": [
       "'MY'"
      ]
     },
     "execution_count": 11,
     "metadata": {},
     "output_type": "execute_result"
    }
   ],
   "source": [
    "c.root.get_service_name()"
   ]
  },
  {
   "cell_type": "code",
   "execution_count": 12,
   "metadata": {},
   "outputs": [
    {
     "data": {
      "text/plain": [
       "('MY',)"
      ]
     },
     "execution_count": 12,
     "metadata": {},
     "output_type": "execute_result"
    }
   ],
   "source": [
    "c.root.get_service_aliases()"
   ]
  },
  {
   "cell_type": "code",
   "execution_count": 5,
   "metadata": {},
   "outputs": [
    {
     "name": "stdout",
     "output_type": "stream",
     "text": [
      "['_HANDLERS', '__class__', '__del__', '__delattr__', '__dict__', '__dir__', '__doc__', '__enter__', '__eq__', '__exit__', '__format__', '__ge__', '__getattribute__', '__gt__', '__hash__', '__init__', '__init_subclass__', '__le__', '__lt__', '__module__', '__ne__', '__new__', '__reduce__', '__reduce_ex__', '__repr__', '__setattr__', '__sizeof__', '__str__', '__subclasshook__', '__weakref__', '_access_attr', '_async_request', '_box', '_box_exc', '_channel', '_check_attr', '_cleanup', '_closed', '_config', '_dispatch', '_dispatch_request', '_get_seq_id', '_handle_buffiter', '_handle_call', '_handle_callattr', '_handle_close', '_handle_cmp', '_handle_ctxexit', '_handle_del', '_handle_delattr', '_handle_dir', '_handle_getattr', '_handle_getroot', '_handle_hash', '_handle_inspect', '_handle_oldslicing', '_handle_pickle', '_handle_ping', '_handle_repr', '_handle_setattr', '_handle_str', '_last_traceback', '_local_objects', '_local_root', '_netref_classes_cache', '_netref_factory', '_proxy_cache', '_recv_event', '_recvlock', '_remote_root', '_request_callbacks', '_request_handlers', '_send', '_send_queue', '_sendlock', '_seqcounter', '_unbox', '_unbox_exc', 'async_request', 'close', 'closed', 'fileno', 'ping', 'poll', 'poll_all', 'root', 'serve', 'serve_all', 'serve_threaded', 'sync_request']\n",
      "Help on method close in module rpyc.core.protocol:\n",
      "\n",
      "close(_catchall=True) method of rpyc.core.protocol.Connection instance\n",
      "    closes the connection, releasing all held resources\n",
      "\n",
      "None\n"
     ]
    }
   ],
   "source": [
    "print(dir(c))\n",
    "print(help(c.close))"
   ]
  },
  {
   "cell_type": "code",
   "execution_count": null,
   "metadata": {},
   "outputs": [],
   "source": []
  }
 ],
 "metadata": {
  "kernelspec": {
   "display_name": "Python 3",
   "language": "python",
   "name": "python3"
  },
  "language_info": {
   "codemirror_mode": {
    "name": "ipython",
    "version": 3
   },
   "file_extension": ".py",
   "mimetype": "text/x-python",
   "name": "python",
   "nbconvert_exporter": "python",
   "pygments_lexer": "ipython3",
   "version": "3.7.2"
  }
 },
 "nbformat": 4,
 "nbformat_minor": 2
}

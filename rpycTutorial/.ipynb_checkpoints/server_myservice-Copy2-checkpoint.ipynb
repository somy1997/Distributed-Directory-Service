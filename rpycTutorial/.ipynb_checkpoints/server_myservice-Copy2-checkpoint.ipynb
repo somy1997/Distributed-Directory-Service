{
 "cells": [
  {
   "cell_type": "code",
   "execution_count": 4,
   "metadata": {},
   "outputs": [],
   "source": [
    "import rpyc\n",
    "from rpyc.utils.server import ThreadedServer\n",
    "\n",
    "port = 54319\n",
    "childport = 54318"
   ]
  },
  {
   "cell_type": "code",
   "execution_count": 5,
   "metadata": {},
   "outputs": [],
   "source": [
    "class MyService(rpyc.Service):\n",
    "    def on_connect(self, conn):\n",
    "        # code that runs when a connection is created\n",
    "        # (to init the service, if needed)\n",
    "        pass\n",
    "\n",
    "    def on_disconnect(self, conn):\n",
    "        # code that runs after the connection has already closed\n",
    "        # (to finalize the service, if needed)\n",
    "        pass\n",
    "\n",
    "    def exposed_get_answer(self): # this is an exposed method\n",
    "        return 42\n",
    "\n",
    "    exposed_the_real_answer_though = 43     # an exposed attribute\n",
    "\n",
    "    def get_question(self):  # while this method is not exposed\n",
    "        return \"what is the airspeed velocity of an unladen swallow?\"\n",
    "    \n",
    "    def exposed_bind(self,objectid) :\n",
    "        if objectid < 10000 :\n",
    "            return 0\n",
    "        else :\n",
    "            return childport\n",
    "    \n",
    "    def exposed_server_port(self) :\n",
    "        return port"
   ]
  },
  {
   "cell_type": "code",
   "execution_count": null,
   "metadata": {},
   "outputs": [],
   "source": [
    "# ... continuing the code snippet from above ...\n",
    "\n",
    "if __name__ == \"__main__\":\n",
    "    t = ThreadedServer(MyService, port=54319)\n",
    "    t.start()"
   ]
  },
  {
   "cell_type": "code",
   "execution_count": null,
   "metadata": {},
   "outputs": [],
   "source": []
  }
 ],
 "metadata": {
  "kernelspec": {
   "display_name": "Python 3",
   "language": "python",
   "name": "python3"
  },
  "language_info": {
   "codemirror_mode": {
    "name": "ipython",
    "version": 3
   },
   "file_extension": ".py",
   "mimetype": "text/x-python",
   "name": "python",
   "nbconvert_exporter": "python",
   "pygments_lexer": "ipython3",
   "version": "3.7.2"
  }
 },
 "nbformat": 4,
 "nbformat_minor": 2
}
